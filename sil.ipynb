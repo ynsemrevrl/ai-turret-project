{
 "cells": [
  {
   "cell_type": "code",
   "execution_count": 1,
   "metadata": {},
   "outputs": [],
   "source": [
    "import math\n",
    "\n",
    "def calculate_horizontal_fov(diagonal_fov, image_width, image_height):\n",
    "    # Diagonal FOV'u radian cinsine çevirme\n",
    "    diagonal_fov_radian = math.radians(diagonal_fov)\n",
    "\n",
    "    # Görüntü genişliği ve yüksekliği oranını hesapla\n",
    "    aspect_ratio = image_width / image_height\n",
    "\n",
    "    # Yatay FOV'u hesaplama\n",
    "    horizontal_fov_radian = 2 * math.atan(math.tan(diagonal_fov_radian / 2) * aspect_ratio / math.sqrt(1 + aspect_ratio**2))\n",
    "\n",
    "    # Yatay FOV'u dereceye çevirme\n",
    "    horizontal_fov = math.degrees(horizontal_fov_radian)\n",
    "\n",
    "    return horizontal_fov"
   ]
  },
  {
   "cell_type": "code",
   "execution_count": 4,
   "metadata": {},
   "outputs": [],
   "source": [
    "horizontal_FOV = calculate_horizontal_fov(110, 640, 480) # 160.0"
   ]
  },
  {
   "cell_type": "code",
   "execution_count": 11,
   "metadata": {},
   "outputs": [],
   "source": [
    "image_width = 640\n",
    "# Açı başına piksel\n",
    "angle_per_pixel = horizontal_FOV / image_width\n",
    "\n",
    "# BBox merkezi ve görüntü merkezi arasındaki fark\n",
    "# bbox_center_x = 400  # Örnek bbox merkezi X koordinatı\n",
    "# delta_x = bbox_center_x - (image_width / 2)\n",
    "delta_x = 469\n",
    "# Gerekli açı\n",
    "required_angle = delta_x * angle_per_pixel"
   ]
  },
  {
   "cell_type": "code",
   "execution_count": 12,
   "metadata": {},
   "outputs": [
    {
     "name": "stdout",
     "output_type": "stream",
     "text": [
      "71.53079172137717\n"
     ]
    }
   ],
   "source": [
    "print(required_angle)"
   ]
  },
  {
   "cell_type": "code",
   "execution_count": null,
   "metadata": {},
   "outputs": [],
   "source": []
  }
 ],
 "metadata": {
  "kernelspec": {
   "display_name": "turret",
   "language": "python",
   "name": "python3"
  },
  "language_info": {
   "codemirror_mode": {
    "name": "ipython",
    "version": 3
   },
   "file_extension": ".py",
   "mimetype": "text/x-python",
   "name": "python",
   "nbconvert_exporter": "python",
   "pygments_lexer": "ipython3",
   "version": "3.10.14"
  }
 },
 "nbformat": 4,
 "nbformat_minor": 2
}
